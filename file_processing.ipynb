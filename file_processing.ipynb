{
 "cells": [
  {
   "cell_type": "code",
   "execution_count": 1,
   "id": "3f13b1a0",
   "metadata": {},
   "outputs": [],
   "source": [
    "###checks if files are the same or not"
   ]
  },
  {
   "cell_type": "code",
   "execution_count": 2,
   "id": "e22aebd2",
   "metadata": {},
   "outputs": [],
   "source": [
    "import pandas as pd\n",
    "import os\n",
    "from tqdm.notebook import tqdm\n",
    "\n",
    "download_folder = r\"C:\\Users\\andy8\\Downloads\\inkfrog-sales-export\" # Change to your download directory\n",
    "files = [file for file in os.listdir(download_folder) if file.startswith(\"export\") and file.endswith(\".csv\")]"
   ]
  },
  {
   "cell_type": "code",
   "execution_count": 3,
   "id": "49bf8095",
   "metadata": {},
   "outputs": [
    {
     "data": {
      "text/plain": [
       "(356,\n",
       " ['export (1).csv',\n",
       "  'export (10).csv',\n",
       "  'export (100).csv',\n",
       "  'export (11).csv',\n",
       "  'export (12).csv'])"
      ]
     },
     "execution_count": 3,
     "metadata": {},
     "output_type": "execute_result"
    }
   ],
   "source": [
    "len(files), files[:5]"
   ]
  },
  {
   "cell_type": "code",
   "execution_count": 4,
   "id": "e3dde439",
   "metadata": {
    "scrolled": false
   },
   "outputs": [
    {
     "data": {
      "application/vnd.jupyter.widget-view+json": {
       "model_id": "40077672565b45d6bf2d5152148663c3",
       "version_major": 2,
       "version_minor": 0
      },
      "text/plain": [
       "  0%|          | 0/356 [00:00<?, ?it/s]"
      ]
     },
     "metadata": {},
     "output_type": "display_data"
    },
    {
     "name": "stdout",
     "output_type": "stream",
     "text": [
      "No duplicate order numbers found.\n"
     ]
    }
   ],
   "source": [
    "#checking for duplicates. Checks second row of first column and compares all csv\n",
    "order_numbers = []\n",
    "\n",
    "for file in tqdm(files):\n",
    "    df = pd.read_csv(os.path.join(download_folder, file))\n",
    "    order_numbers.append(df.iloc[1, 0])\n",
    "\n",
    "def check_duplicates(arr):\n",
    "    return len(arr) != len(set(arr))\n",
    "\n",
    "if check_duplicates(order_numbers):\n",
    "    print(\"Duplicate order numbers found.\")\n",
    "else:\n",
    "    print(\"No duplicate order numbers found.\")"
   ]
  },
  {
   "cell_type": "code",
   "execution_count": 5,
   "id": "2b50d3bd",
   "metadata": {},
   "outputs": [
    {
     "data": {
      "application/vnd.jupyter.widget-view+json": {
       "model_id": "3adad4c832db4575aac697decafd2507",
       "version_major": 2,
       "version_minor": 0
      },
      "text/plain": [
       "  0%|          | 0/356 [00:00<?, ?it/s]"
      ]
     },
     "metadata": {},
     "output_type": "display_data"
    }
   ],
   "source": [
    "# (optional) converts into single CSV\n",
    "df_list = []\n",
    "for file in tqdm(files):\n",
    "    df_list.append(pd.read_csv(os.path.join(download_folder, file)))\n",
    "\n",
    "combined_df = pd.concat(df_list).sort_values(by=[\"orderid\"], ascending=False)\n",
    "combined_df.to_csv(\"combined_orders.csv\", index=False)"
   ]
  }
 ],
 "metadata": {
  "kernelspec": {
   "display_name": "Python 3 (ipykernel)",
   "language": "python",
   "name": "python3"
  },
  "language_info": {
   "codemirror_mode": {
    "name": "ipython",
    "version": 3
   },
   "file_extension": ".py",
   "mimetype": "text/x-python",
   "name": "python",
   "nbconvert_exporter": "python",
   "pygments_lexer": "ipython3",
   "version": "3.11.1"
  }
 },
 "nbformat": 4,
 "nbformat_minor": 5
}
