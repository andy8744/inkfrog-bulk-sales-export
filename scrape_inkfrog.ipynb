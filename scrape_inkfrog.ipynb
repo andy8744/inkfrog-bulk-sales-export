{
 "cells": [
  {
   "cell_type": "code",
   "execution_count": null,
   "id": "7ecc1051",
   "metadata": {},
   "outputs": [],
   "source": [
    "# Uses selenium to export bulk orders from inkfrog"
   ]
  },
  {
   "cell_type": "code",
   "execution_count": 2,
   "id": "11573d8f",
   "metadata": {
    "scrolled": true
   },
   "outputs": [],
   "source": [
    "from selenium import webdriver\n",
    "import warnings\n",
    "import time\n",
    "from selenium.webdriver.support.ui import WebDriverWait\n",
    "from selenium.webdriver.common.by import By\n",
    "from selenium.webdriver.support import expected_conditions as EC\n",
    "\n",
    "NUM_PAGES = 356 #change to number of pages (max 50 orders per page)"
   ]
  },
  {
   "cell_type": "code",
   "execution_count": 3,
   "id": "28ba378c",
   "metadata": {},
   "outputs": [
    {
     "name": "stderr",
     "output_type": "stream",
     "text": [
      "C:\\Users\\andy8\\AppData\\Local\\Temp\\ipykernel_8580\\1153663595.py:7: DeprecationWarning: executable_path has been deprecated, please pass in a Service object\n",
      "  driver = webdriver.Chrome('./chromedriver.exe')\n"
     ]
    }
   ],
   "source": [
    "''' # Use if want to change chrome webdriver download folder\n",
    "chrome_options = webdriver.ChromeOptions()\n",
    "prefs = {\"download.default_directory\" : \"path/to/your/download/folder\"}\n",
    "chrome_options.add_experimental_option(\"prefs\", prefs)\n",
    "driver = webdriver.Chrome('./chromedriver.exe', chrome_options=chrome_options)\n",
    "'''\n",
    "driver = webdriver.Chrome('./chromedriver.exe')"
   ]
  },
  {
   "cell_type": "code",
   "execution_count": 3,
   "id": "c06f70c6",
   "metadata": {},
   "outputs": [],
   "source": [
    "driver.get(\"https://www.inkfrog.com/\")"
   ]
  },
  {
   "cell_type": "code",
   "execution_count": 5,
   "id": "177e26f0",
   "metadata": {},
   "outputs": [],
   "source": [
    "### LOGIN AND GO TO ORDERS PAGE\n",
    "wait = WebDriverWait(driver, 10)\n",
    "\n",
    "for page_number in range(1, NUMPAGES+1):\n",
    "    driver.get(f\"https://open.inkfrog.com/listings/sold/?page={page_number}\")\n",
    "    time.sleep(4)\n",
    "    checkbox = wait.until(EC.element_to_be_clickable((By.CSS_SELECTOR, \"th.td_checkbox.active input#check_all\")))\n",
    "    checkbox.click()\n",
    "    time.sleep(0.5)\n",
    "    bulk_action_button = wait.until(EC.element_to_be_clickable((By.CSS_SELECTOR, \"button#listings_bulk_actions.btn\")))\n",
    "    bulk_action_button.click()\n",
    "    time.sleep(0.5)\n",
    "    export_button = wait.until(EC.element_to_be_clickable((By.CSS_SELECTOR, \"a#bulkaction_export\")))\n",
    "    export_button.click()"
   ]
  }
 ],
 "metadata": {
  "kernelspec": {
   "display_name": "Python 3 (ipykernel)",
   "language": "python",
   "name": "python3"
  },
  "language_info": {
   "codemirror_mode": {
    "name": "ipython",
    "version": 3
   },
   "file_extension": ".py",
   "mimetype": "text/x-python",
   "name": "python",
   "nbconvert_exporter": "python",
   "pygments_lexer": "ipython3",
   "version": "3.11.1"
  }
 },
 "nbformat": 4,
 "nbformat_minor": 5
}
